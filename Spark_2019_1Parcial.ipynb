{
 "cells": [
  {
   "cell_type": "code",
   "execution_count": 54,
   "metadata": {},
   "outputs": [],
   "source": [
    "import pyspark\n",
    "try:\n",
    "    type(sc)\n",
    "except NameError:\n",
    "    sc = pyspark.SparkContext('local[*]')"
   ]
  },
  {
   "cell_type": "markdown",
   "metadata": {},
   "source": [
    "## Ejercicio:\n",
    "### El servicio meteorologico registra datos del tiempo para todas las ciudades donde posee una base de medicion.\n",
    "### Esta informacion se encuentra en 2 RDD.\n",
    "### En el primero se tiene informacion de las bases de medicion: (ID_BASE, NOMBRE, PCIA, CIUDAD, LAT, LON)\n",
    "### El segundo posee informacion sobre las mediciones en si: (TIMESTAMP, ID_BASE, TEMPERATURA, HUMEDAD, PRESION, DIRECCION_VIENTO, VELOCIDAD_VIENTO).\n",
    "### Se desea obtener un reporte para las bases de la Provincia de buenos Aires. El mismo debe informar los ID y nombre de bases de medicion que hayan registrado una variacion de temperatura promedio mensual mayor al 30% en el año 2018 (dada la temperatura con el promedio del mes anterior, para determinar la variacion porcentual)."
   ]
  },
  {
   "cell_type": "markdown",
   "metadata": {},
   "source": [
    "# Creo datos iniciales que luego voy a paralelizar (considero que en vez de tener el timestamp en las mediciones tengo directamente el mes para escribir menos, es cuestion de un filter más, no cambia mucho el ejercicio)"
   ]
  },
  {
   "cell_type": "code",
   "execution_count": 66,
   "metadata": {},
   "outputs": [
    {
     "data": {
      "text/plain": [
       "78"
      ]
     },
     "execution_count": 66,
     "metadata": {},
     "output_type": "execute_result"
    }
   ],
   "source": [
    "#Id_base, nombre, pcia, ciudad, lat, lon\n",
    "datos_bases = [(1,'basecita','bs.as','temp',10,10),\n",
    "              (2,'base2','bs.as','lom',10,10),\n",
    "              (3,'basecilla','bs.as','lan',10,10),\n",
    "              (4,'LA BASE','bs.as','cons',10,10),\n",
    "              (5,'basecita2','bs.as','ave',10,10),\n",
    "              (6,'base51','salta','salta',10,10)]\n",
    "\n",
    "#Mes, id_base, temperatura, humedad, presion, direccion_viento, velocidad_viento <- Para simplificar \n",
    "                                                                                   #tomo directamente\n",
    "                                                                                   #el mes en lugar de la fecha\n",
    "datos_medic = [(1,1,19.5,99,1,'n',1000),\n",
    "              (1,2,21,99,1,'n',1000),\n",
    "              (1,3,100,99,1,'n',1000),\n",
    "              (2,3,100,99,1,'n',1000),\n",
    "              (1,4,4,99,1,'n',1000),\n",
    "              (1,5,12,99,1,'n',1000),\n",
    "              (2,1,123,99,1,'n',1000),\n",
    "              (2,2,13,99,1,'n',1000),\n",
    "              (2,3,100,99,1,'n',1000),\n",
    "              (2,4,5,99,1,'n',1000),\n",
    "              (2,5,28,99,1,'n',1000),\n",
    "              (2,1,9,99,1,'n',1000),\n",
    "              (2,2,1,99,1,'n',1000),\n",
    "              (2,3,100,99,1,'n',1000),\n",
    "              (2,4,127,99,1,'n',1000),\n",
    "              (2,5,14,99,1,'n',1000),\n",
    "              (3,1,1000,99,1,'n',1000),\n",
    "              (3,1,2,99,1,'n',1000),\n",
    "              (3,2,21,99,1,'n',1000),\n",
    "              (3,3,100,99,1,'n',1000),\n",
    "              (3,4,25,99,1,'n',1000),\n",
    "              (3,5,33,99,1,'n',1000),\n",
    "              (3,2,12,99,1,'n',1000),\n",
    "              (4,1,14,99,1,'n',1000),\n",
    "              (4,2,13,99,1,'n',1000),\n",
    "              (4,3,100,99,1,'n',1000),\n",
    "              (4,4,12,99,1,'n',1000),\n",
    "              (4,5,15,99,1,'n',1000),\n",
    "              (5,1,19,99,1,'n',1000),\n",
    "              (5,2,23,99,1,'n',1000),\n",
    "              (5,3,100,99,1,'n',1000),\n",
    "              (5,4,1,99,1,'n',1000),\n",
    "              (5,5,33,99,1,'n',1000),\n",
    "              (5,1,41,99,1,'n',1000),\n",
    "              (5,2,2,99,1,'n',1000),\n",
    "              (5,3,100,99,1,'n',1000),\n",
    "              (5,4,44,99,1,'n',1000),\n",
    "              (5,5,33,99,1,'n',1000),\n",
    "              (6,1,1,99,1,'n',1000),\n",
    "              (6,2,2,99,1,'n',1000),\n",
    "              (6,3,100,99,1,'n',1000),\n",
    "              (6,4,3,99,1,'n',1000),\n",
    "              (6,5,1,99,1,'n',1000),\n",
    "              (6,1,22,99,1,'n',1000),\n",
    "              (6,2,33,99,1,'n',1000),\n",
    "              (6,3,100,99,1,'n',1000),\n",
    "              (6,4,22,99,1,'n',1000),\n",
    "              (6,5,11,99,1,'n',1000),\n",
    "              (7,1,11,99,1,'n',1000),\n",
    "              (7,2,11,99,1,'n',1000),\n",
    "              (7,3,100,99,1,'n',1000),\n",
    "              (7,4,11,99,1,'n',1000),\n",
    "              (7,5,11,99,1,'n',1000),\n",
    "              (8,1,11,99,1,'n',1000),\n",
    "              (8,2,11,99,1,'n',1000),\n",
    "              (8,3,100,99,1,'n',1000),\n",
    "              (8,4,11,99,1,'n',1000),\n",
    "              (8,5,11,99,1,'n',1000),\n",
    "              (9,1,11,99,1,'n',1000),\n",
    "              (9,2,11,99,1,'n',1000),\n",
    "              (9,3,100,99,1,'n',1000),\n",
    "              (9,4,11,99,1,'n',1000),\n",
    "              (9,5,11,99,1,'n',1000),\n",
    "              (10,1,11,99,1,'n',1000),\n",
    "              (10,2,11,99,1,'n',1000),\n",
    "              (10,3,100,99,1,'n',1000),\n",
    "              (10,4,11,99,1,'n',1000),\n",
    "              (10,5,11,99,1,'n',1000),\n",
    "              (11,1,11,99,1,'n',1000),\n",
    "              (11,2,11,99,1,'n',1000),\n",
    "              (11,3,100,99,1,'n',1000),\n",
    "              (11,4,11,99,1,'n',1000),\n",
    "              (11,5,11,99,1,'n',1000),\n",
    "              (12,1,11,99,1,'n',1000),\n",
    "              (12,2,11,99,1,'n',1000),\n",
    "              (12,3,100,99,1,'n',1000),\n",
    "              (12,4,11,99,1,'n',1000),\n",
    "              (12,5,11,99,1,'n',1000)]\n",
    "len(datos_medic)"
   ]
  },
  {
   "cell_type": "code",
   "execution_count": 67,
   "metadata": {},
   "outputs": [],
   "source": [
    "rdd_med=sc.parallelize(datos_medic)\n",
    "rdd_bas=sc.parallelize(datos_bases)"
   ]
  },
  {
   "cell_type": "markdown",
   "metadata": {},
   "source": [
    "## Aca no resuelvo el ejercicio pero veo que es equivalente para obtener una lista de tuplas como valor haciendo reduceByKey o haciendo groupByKey y despues mapValues(list)"
   ]
  },
  {
   "cell_type": "markdown",
   "metadata": {},
   "source": [
    "### Obtengo tuplas (Id base, lista mes y promedio temp) usando reduce by key"
   ]
  },
  {
   "cell_type": "code",
   "execution_count": 68,
   "metadata": {},
   "outputs": [
    {
     "name": "stdout",
     "output_type": "stream",
     "text": [
      "CPU times: user 60.8 ms, sys: 4.45 ms, total: 65.2 ms\n",
      "Wall time: 642 ms\n"
     ]
    },
    {
     "data": {
      "text/plain": [
       "[(2,\n",
       "  [(2, 7.0),\n",
       "   (4, 13.0),\n",
       "   (6, 17.5),\n",
       "   (8, 11.0),\n",
       "   (10, 11.0),\n",
       "   (12, 11.0),\n",
       "   (1, 21.0),\n",
       "   (3, 16.5),\n",
       "   (5, 12.5),\n",
       "   (7, 11.0),\n",
       "   (9, 11.0),\n",
       "   (11, 11.0)]),\n",
       " (4,\n",
       "  [(2, 66.0),\n",
       "   (4, 12.0),\n",
       "   (6, 12.5),\n",
       "   (8, 11.0),\n",
       "   (10, 11.0),\n",
       "   (12, 11.0),\n",
       "   (1, 4.0),\n",
       "   (3, 25.0),\n",
       "   (5, 22.5),\n",
       "   (7, 11.0),\n",
       "   (9, 11.0),\n",
       "   (11, 11.0)]),\n",
       " (1,\n",
       "  [(1, 19.5),\n",
       "   (3, 501.0),\n",
       "   (5, 30.0),\n",
       "   (7, 11.0),\n",
       "   (9, 11.0),\n",
       "   (11, 11.0),\n",
       "   (2, 66.0),\n",
       "   (4, 14.0),\n",
       "   (6, 11.5),\n",
       "   (8, 11.0),\n",
       "   (10, 11.0),\n",
       "   (12, 11.0)]),\n",
       " (3,\n",
       "  [(1, 100.0),\n",
       "   (3, 100.0),\n",
       "   (5, 100.0),\n",
       "   (7, 100.0),\n",
       "   (9, 100.0),\n",
       "   (11, 100.0),\n",
       "   (2, 100.0),\n",
       "   (4, 100.0),\n",
       "   (6, 100.0),\n",
       "   (8, 100.0),\n",
       "   (10, 100.0),\n",
       "   (12, 100.0)]),\n",
       " (5,\n",
       "  [(1, 12.0),\n",
       "   (3, 33.0),\n",
       "   (5, 33.0),\n",
       "   (7, 11.0),\n",
       "   (9, 11.0),\n",
       "   (11, 11.0),\n",
       "   (2, 21.0),\n",
       "   (4, 15.0),\n",
       "   (6, 6.0),\n",
       "   (8, 11.0),\n",
       "   (10, 11.0),\n",
       "   (12, 11.0)])]"
      ]
     },
     "execution_count": 68,
     "metadata": {},
     "output_type": "execute_result"
    }
   ],
   "source": [
    "%%time\n",
    "rdd_med.map(lambda x: ((x[1],x[0]),(x[2],1))).reduceByKey(lambda x,y: (x[0] + y[0],x[1] + y[1]))\\\n",
    "                    .map(lambda x: (x[0][0], [(x[0][1], x[1][0]/x[1][1])] ) )\\\n",
    "                    .reduceByKey(lambda x,y: x+y)\\\n",
    "                    .collect()"
   ]
  },
  {
   "cell_type": "markdown",
   "metadata": {},
   "source": [
    "### Obtengo tuplas (Id base, lista mes y promedio temp) usando group by key"
   ]
  },
  {
   "cell_type": "code",
   "execution_count": 70,
   "metadata": {},
   "outputs": [
    {
     "name": "stdout",
     "output_type": "stream",
     "text": [
      "CPU times: user 47.8 ms, sys: 8.49 ms, total: 56.3 ms\n",
      "Wall time: 540 ms\n"
     ]
    },
    {
     "data": {
      "text/plain": [
       "[(2,\n",
       "  [(2, 7.0),\n",
       "   (4, 13.0),\n",
       "   (6, 17.5),\n",
       "   (8, 11.0),\n",
       "   (10, 11.0),\n",
       "   (12, 11.0),\n",
       "   (1, 21.0),\n",
       "   (3, 16.5),\n",
       "   (5, 12.5),\n",
       "   (7, 11.0),\n",
       "   (9, 11.0),\n",
       "   (11, 11.0)]),\n",
       " (4,\n",
       "  [(2, 66.0),\n",
       "   (4, 12.0),\n",
       "   (6, 12.5),\n",
       "   (8, 11.0),\n",
       "   (10, 11.0),\n",
       "   (12, 11.0),\n",
       "   (1, 4.0),\n",
       "   (3, 25.0),\n",
       "   (5, 22.5),\n",
       "   (7, 11.0),\n",
       "   (9, 11.0),\n",
       "   (11, 11.0)]),\n",
       " (1,\n",
       "  [(1, 19.5),\n",
       "   (3, 501.0),\n",
       "   (5, 30.0),\n",
       "   (7, 11.0),\n",
       "   (9, 11.0),\n",
       "   (11, 11.0),\n",
       "   (2, 66.0),\n",
       "   (4, 14.0),\n",
       "   (6, 11.5),\n",
       "   (8, 11.0),\n",
       "   (10, 11.0),\n",
       "   (12, 11.0)]),\n",
       " (3,\n",
       "  [(1, 100.0),\n",
       "   (3, 100.0),\n",
       "   (5, 100.0),\n",
       "   (7, 100.0),\n",
       "   (9, 100.0),\n",
       "   (11, 100.0),\n",
       "   (2, 100.0),\n",
       "   (4, 100.0),\n",
       "   (6, 100.0),\n",
       "   (8, 100.0),\n",
       "   (10, 100.0),\n",
       "   (12, 100.0)]),\n",
       " (5,\n",
       "  [(1, 12.0),\n",
       "   (3, 33.0),\n",
       "   (5, 33.0),\n",
       "   (7, 11.0),\n",
       "   (9, 11.0),\n",
       "   (11, 11.0),\n",
       "   (2, 21.0),\n",
       "   (4, 15.0),\n",
       "   (6, 6.0),\n",
       "   (8, 11.0),\n",
       "   (10, 11.0),\n",
       "   (12, 11.0)])]"
      ]
     },
     "execution_count": 70,
     "metadata": {},
     "output_type": "execute_result"
    }
   ],
   "source": [
    "%%time\n",
    "rdd_med.map(lambda x: ((x[1],x[0]),(x[2],1))).reduceByKey(lambda x,y: (x[0] + y[0],x[1] + y[1]))\\\n",
    "                    .map(lambda x: (x[0][0], (x[0][1], x[1][0]/x[1][1]) ) )\\\n",
    "                    .groupByKey().mapValues(list)\\\n",
    "                    .collect()"
   ]
  },
  {
   "cell_type": "markdown",
   "metadata": {},
   "source": [
    "## Prueba que hice para el ordenamiento de lista de tuplas"
   ]
  },
  {
   "cell_type": "code",
   "execution_count": 71,
   "metadata": {},
   "outputs": [
    {
     "data": {
      "text/plain": [
       "[(1, 3), (2, 3), (3, 5)]"
      ]
     },
     "execution_count": 71,
     "metadata": {},
     "output_type": "execute_result"
    }
   ],
   "source": [
    "def take_first(x):\n",
    "    return x[0]\n",
    "\n",
    "lista_tuplas = [(1,3),(3,5),(2,3)]\n",
    "\n",
    "sorted(lista_tuplas, key = take_first)"
   ]
  },
  {
   "cell_type": "markdown",
   "metadata": {},
   "source": [
    "## Veo que se obtiene el modulo de un numero usando ABS"
   ]
  },
  {
   "cell_type": "code",
   "execution_count": 73,
   "metadata": {},
   "outputs": [
    {
     "data": {
      "text/plain": [
       "1"
      ]
     },
     "execution_count": 73,
     "metadata": {},
     "output_type": "execute_result"
    }
   ],
   "source": [
    "a=-1\n",
    "abs(a)"
   ]
  },
  {
   "cell_type": "markdown",
   "metadata": {},
   "source": [
    "## Recuerdo el ejercicio para evitar scrollear hasta arriba:\n",
    "### El servicio meteorologico registra datos del tiempo para todas las ciudades donde posee una base de medicion.\n",
    "### Esta informacion se encuentra en 2 RDD.\n",
    "### En el primero se tiene informacion de las bases de medicion: (ID_BASE, NOMBRE, PCIA, CIUDAD, LAT, LON)\n",
    "### El segundo posee informacion sobre las mediciones en si: (TIMESTAMP, ID_BASE, TEMPERATURA, HUMEDAD, PRESION, DIRECCION_VIENTO, VELOCIDAD_VIENTO).\n",
    "### Se desea obtener un reporte para las bases de la Provincia de buenos Aires. El mismo debe informar los ID y nombre de bases de medicion que hayan registrado una variacion de temperatura promedio mensual mayor al 30% en el año 2018 (dada la temperatura con el promedio del mes anterior, para determinar la variacion porcentual)."
   ]
  },
  {
   "cell_type": "markdown",
   "metadata": {},
   "source": [
    "#### (simplificaciones consideradas: en lugar de tener timestamp considero directamente que tengo el mes, y ademas debido a esto no consideraria la variacion entre enero de 2018 y diciembre de 2017) <- Considerando tambien el año (distinguiendo entre meses de 2017 y de 2018) no se como hacer el ordenamiento de las tuplas, a menos que considere por ejemplo diciembre de 2017 como el mes 0, en ese caso funciona lo mismo que esta aca con ese reemplazo)"
   ]
  },
  {
   "cell_type": "markdown",
   "metadata": {},
   "source": [
    "# Solucion del ejercicio:"
   ]
  },
  {
   "cell_type": "code",
   "execution_count": 75,
   "metadata": {},
   "outputs": [
    {
     "data": {
      "text/plain": [
       "[(4, 'LA BASE'), (1, 'basecita'), (5, 'basecita2'), (2, 'base2')]"
      ]
     },
     "execution_count": 75,
     "metadata": {},
     "output_type": "execute_result"
    }
   ],
   "source": [
    "def tomar_primer_elemento(x):\n",
    "    return x[0]\n",
    "\n",
    "def hubo_dif_30_porciento(x):\n",
    "    hubo_dif = False\n",
    "    for i in range(1,len(x[1])):\n",
    "        if ( (abs( (x[1][i][1] - x[1][i-1][1]) / (x[1][i-1][1]) ) > 0.3) ) :\n",
    "            hubo_dif = True\n",
    "    return hubo_dif\n",
    "\n",
    "\n",
    "rdd_bas_filt=rdd_bas.filter(lambda x: x[2] == 'bs.as').map(lambda x: (x[0],x[1]))\n",
    "\n",
    "\n",
    "rdd_med.map(lambda x: ((x[1],x[0]),(x[2],1)))\\\n",
    "                    .reduceByKey(lambda x,y: (x[0] + y[0],x[1] + y[1]))\\\n",
    "                    .map(lambda x: (x[0][0], (x[0][1], x[1][0]/x[1][1]) ) )\\\n",
    "                    .groupByKey()\\\n",
    "                    .map(lambda x: (x[0],sorted(list(x[1]), key=tomar_primer_elemento) ) )\\\n",
    "                    .filter(hubo_dif_30_porciento)\\\n",
    "                    .map(lambda x: (x[0],1))\\\n",
    "                    .join(rdd_bas_filt)\\\n",
    "                    .map(lambda x: (x[0],x[1][1]))\\\n",
    "                    .collect()"
   ]
  },
  {
   "cell_type": "markdown",
   "metadata": {},
   "source": [
    "# Obtuve una lista de tuplas (id_base, nombre_base) con las bases que en alguno de los 12 meses registraron una diferencia superior al 30% con respecto al mes anterior en el promedio de temperatura (sin considerar enero)"
   ]
  },
  {
   "cell_type": "code",
   "execution_count": null,
   "metadata": {},
   "outputs": [],
   "source": []
  }
 ],
 "metadata": {
  "kernelspec": {
   "display_name": "Python 3",
   "language": "python",
   "name": "python3"
  },
  "language_info": {
   "codemirror_mode": {
    "name": "ipython",
    "version": 3
   },
   "file_extension": ".py",
   "mimetype": "text/x-python",
   "name": "python",
   "nbconvert_exporter": "python",
   "pygments_lexer": "ipython3",
   "version": "3.6.7"
  }
 },
 "nbformat": 4,
 "nbformat_minor": 2
}
